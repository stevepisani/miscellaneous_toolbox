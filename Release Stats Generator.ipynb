{
 "cells": [
  {
   "cell_type": "markdown",
   "metadata": {},
   "source": [
    "# Release Stats Generator"
   ]
  },
  {
   "cell_type": "markdown",
   "metadata": {},
   "source": [
    "The function in this notebook automatically generates the stats for releases. \n",
    "\n",
    "_Note: PRs must be labeled with milestones to be picked up_"
   ]
  },
  {
   "cell_type": "code",
   "execution_count": null,
   "metadata": {},
   "outputs": [],
   "source": [
    "# pip install PyGithub"
   ]
  },
  {
   "cell_type": "code",
   "execution_count": 1,
   "metadata": {},
   "outputs": [],
   "source": [
    "from github import Github\n",
    "\n",
    "# GH Access Token\n",
    "# https://docs.github.com/en/github/authenticating-to-github/creating-a-personal-access-token\n",
    "g = Github(\"your_github_access_token\")\n"
   ]
  },
  {
   "cell_type": "code",
   "execution_count": 16,
   "metadata": {
    "code_folding": [
     0
    ]
   },
   "outputs": [],
   "source": [
    "def get_release_stats(repo_name, tag_names, verbose=false):\n",
    "    repo = g.get_repo(repo_name)\n",
    "\n",
    "    # Fetch milestones\n",
    "    target_milestones = []\n",
    "    ## pygithub does not allow for stateless milestone search\n",
    "    open_milestones = repo.get_milestones(\"open\")\n",
    "    closed_milestones = repo.get_milestones(\"closed\")\n",
    "    for tag in tag_names:\n",
    "        for milestone in open_milestones:\n",
    "            if tag in milestone.title:\n",
    "                target_milestones.append(milestone)\n",
    "        for milestone in closed_milestones:\n",
    "            if tag in milestone.title:\n",
    "                target_milestones.append(milestone)\n",
    "\n",
    "    # Fetch Pull Requests\n",
    "    all_pulls = []\n",
    "    ## pygithub does not allow for stateless pull search\n",
    "    open_pulls = repo.get_pulls(\"open\")\n",
    "    closed_pulls = repo.get_pulls(\"closed\")\n",
    "    for pull in open_pulls:\n",
    "        all_pulls.append(pull)\n",
    "    for pull in closed_pulls:\n",
    "        all_pulls.append(pull)\n",
    "\n",
    "    # Generate Stats\n",
    "    contributers = set()\n",
    "    reviewers = set()\n",
    "    total_delta = 0\n",
    "    total_additions = 0\n",
    "    total_deletions = 0\n",
    "\n",
    "    print(\"PRs:\")\n",
    "    for pull in all_pulls:\n",
    "        if pull.milestone in target_milestones:\n",
    "            print(pull.milestone.title, \":\", pull.number, \":\", pull.title)\n",
    "            contributers.add(pull.user.login)\n",
    "            total_delta += min([pull.additions, pull.deletions])\n",
    "            total_additions += pull.additions\n",
    "            total_deletions += pull.deletions\n",
    "            for review in pull.get_reviews():\n",
    "                reviewers.add(review.user.login)\n",
    "    print()\n",
    "\n",
    "    if verbose:\n",
    "        print(\"contributers: \", end='')\n",
    "        for i, contributer in enumerate(contributers):\n",
    "            if i:\n",
    "                print(', ', end='')\n",
    "            print(contributer, end='')\n",
    "        print()    \n",
    "    else:\n",
    "        print(\"contributers: \", len(contributers))\n",
    "\n",
    "\n",
    "\n",
    "    if verbose:\n",
    "        print(\"reviewers: \", end='')\n",
    "        for i, reviewer in enumerate(reviewers):\n",
    "            if i:\n",
    "                print(', ', end='')\n",
    "            print(reviewer, end='')\n",
    "    else:\n",
    "        print(\"reviewers: \", len(reviewers))\n",
    "\n",
    "    print()\n",
    "    \n",
    "    print(\"total_delta: \", total_delta)\n",
    "    print(\"total_additions: \", total_additions)\n",
    "    print(\"total_deletions: \", total_deletions)"
   ]
  },
  {
   "cell_type": "markdown",
   "metadata": {},
   "source": [
    "# Airflow"
   ]
  },
  {
   "cell_type": "code",
   "execution_count": 2,
   "metadata": {},
   "outputs": [],
   "source": [
    "repo_name = \"DWPHoldings/airflow-symphony\"\n",
    "tag_names = [\"v1.22.0\"] # <- change this to the tags you wish to include\n",
    "get_release_stats(repo_name, tag_names)"
   ]
  },
  {
   "cell_type": "markdown",
   "metadata": {},
   "source": [
    "# dbt"
   ]
  },
  {
   "cell_type": "code",
   "execution_count": 17,
   "metadata": {},
   "outputs": [
    {
     "name": "stdout",
     "output_type": "stream",
     "text": [
      "PRs:\n",
      "v2.5.1 : 530 : fix: order_detail cte filter\n",
      "v2.5.1 : 529 : fix: use created_at as tiebreak for most recent account status\n",
      "v2.5.1 : 528 : fix: account_was_ever_active boolean\n",
      "v2.5.0 (Scheduled Release: 9/2/2020) : 526 : fix: aug dm tracking\n",
      "v2.5.0 (Scheduled Release: 9/2/2020) : 522 : chore: expected cpa qa and adjustments\n",
      "v2.5.0 (Scheduled Release: 9/2/2020) : 521 : chore: add fields to aurora utility_profiles\n",
      "v2.5.0 (Scheduled Release: 9/2/2020) : 517 : Updating logic behind activation rates\n",
      "v2.5.0 (Scheduled Release: 9/2/2020) : 516 : Feature/tpv type and office code partner reporting\n",
      "v2.5.0 (Scheduled Release: 9/2/2020) : 514 : Chore/lp logic cleanup\n",
      "v2.5.0 (Scheduled Release: 9/2/2020) : 513 : add campaign_id to prospect_offers_detail\n",
      "v2.5.0 (Scheduled Release: 9/2/2020) : 510 : fix/update date used in ord_detail instead of using the date order hit garcon\n",
      "v2.5.1 : 508 : [49622] Climate - EPA tool metadata + input tables\n",
      "v2.5.0 (Scheduled Release: 9/2/2020) : 500 : fix: handle usage summaries with misleading read_date ranges\n",
      "v2.5.0 (Scheduled Release: 9/2/2020) : 491 : feature: add real-time estimates to shadow_settlement\n",
      "v2.5.0 (Scheduled Release: 9/2/2020) : 480 : Fix/status code groups & add order was_ever_active\n",
      "\n",
      "contributers:  6\n",
      "reviewers:  11\n",
      "total_delta:  576\n",
      "total_additions:  1692\n",
      "total_deletions:  728\n"
     ]
    }
   ],
   "source": [
    "repo_name = \"DWPHoldings/dbt-symphony\"\n",
    "tag_names = [\"v2.5.0\",\"v2.5.1\"] # <- change this to the tags you wish to include\n",
    "get_release_stats(repo_name, tag_names)"
   ]
  }
 ],
 "metadata": {
  "kernelspec": {
   "display_name": "Python 3",
   "language": "python",
   "name": "python3"
  },
  "language_info": {
   "codemirror_mode": {
    "name": "ipython",
    "version": 3
   },
   "file_extension": ".py",
   "mimetype": "text/x-python",
   "name": "python",
   "nbconvert_exporter": "python",
   "pygments_lexer": "ipython3",
   "version": "3.7.3"
  }
 },
 "nbformat": 4,
 "nbformat_minor": 2
}
